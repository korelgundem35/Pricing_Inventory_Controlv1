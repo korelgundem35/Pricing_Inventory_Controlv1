{
 "cells": [
  {
   "cell_type": "code",
   "execution_count": null,
   "metadata": {
    "collapsed": true,
    "pycharm": {
     "is_executing": true
    }
   },
   "outputs": [],
   "source": [
    "import pandas as pd\n",
    "import matplotlib.pyplot as plt\n",
    "import numpy as np\n",
    "data_uni=pd.read_excel('outputs/uniform/combined_uniform.xlsx')"
   ]
  },
  {
   "cell_type": "code",
   "execution_count": null,
   "outputs": [],
   "source": [
    "data_uni.loc[:,'Episode']=data_uni['Episode'].apply(lambda x: x.split(',')[0])\n",
    "combined_df=data_uni.groupby(by=['Type','Episode']).mean().reset_index()\n",
    "data_std=data_uni.groupby(by=['Type','Episode']).std().reset_index()\n",
    "data_std.columns = [\"Type\",\"Episode\",\"S_Rea_Reward\", \"S_Observed_Reward\",\"S_Censoring\"]\n",
    "combined_df1=pd.concat([combined_df,data_std],axis=1)\n",
    "combined_df1['CI_Real_Reward']=combined_df1.apply( lambda x: [x['Rea_Reward'] - 1.96 * x['S_Rea_Reward'] / np.sqrt(50),\n",
    "                                            x['Rea_Reward'] + 1.96 * x['S_Rea_Reward'] / np.sqrt(50)], axis=1)"
   ],
   "metadata": {
    "collapsed": false
   }
  },
  {
   "cell_type": "code",
   "execution_count": null,
   "outputs": [],
   "source": [
    "import matplotlib.pyplot as plt\n",
    "import numpy as np\n",
    "\n",
    "def plot_data(combined_df, data_std):\n",
    "    fig, ax = plt.subplots(nrows=1, ncols=1, figsize=(8, 8))\n",
    "    colors = plt.get_cmap(\"tab10\")\n",
    "\n",
    "    ax.errorbar(combined_df.loc[combined_df['Type']=='FQI', 'Episode'],\n",
    "                   combined_df.loc[combined_df['Type']=='FQI', 'Rea_Reward'],\n",
    "                   yerr=(1.96*data_std.loc[data_std['Type']=='FQI', 'S_Rea_Reward']/np.sqrt(50)) ,\n",
    "                   linestyle='-', color=colors(0), ecolor=colors(0, alpha=0.5), marker='o', markersize=6, linewidth=2, capsize=5, label='Real Reward - FQI')\n",
    "\n",
    "    ax.errorbar(combined_df.loc[combined_df['Type']=='P-FQI', 'Episode'],\n",
    "                   combined_df.loc[combined_df['Type']=='P-FQI', 'Rea_Reward'],\n",
    "                   yerr=(1.96*data_std.loc[data_std['Type']=='P-FQI', 'S_Rea_Reward']/np.sqrt(50)) ,\n",
    "                   linestyle='--', color=colors(1), ecolor=colors(1, alpha=0.5), marker='s', markersize=6, linewidth=2, capsize=5, label='Real Reward - P-FQI')\n",
    "\n",
    "    ax.errorbar(combined_df.loc[combined_df['Type']=='Fusion', 'Episode'],\n",
    "                   combined_df.loc[combined_df['Type']=='Fusion', 'Rea_Reward'],\n",
    "                   yerr=(1.96*data_std.loc[data_std['Type']=='Fusion', 'S_Rea_Reward']/np.sqrt(50)) ,\n",
    "                   linestyle=':', color=colors(2), ecolor=colors(2, alpha=0.5), marker='^', markersize=6, linewidth=2, capsize=5, label='Real Reward - Fusion')\n",
    "\n",
    "    ax.axhline(y=32.62, label='Oracle', color='green', linestyle='-', linewidth=2)\n",
    "    ax.axhline(y=31.89, label='Optimal', color='blue', linestyle='-.', linewidth=2)\n",
    "\n",
    "\n",
    "    ax.set_xlabel('# of Episodes', fontsize=12)\n",
    "    ax.set_ylabel('Real Reward', fontsize=12)\n",
    "    ax.set_title('Real Reward vs Episodes', fontsize=14)\n",
    "    ax.legend(fontsize=10)\n",
    "    ax.grid(True)\n",
    "\n",
    "\n",
    "    plt.show()\n"
   ],
   "metadata": {
    "collapsed": false
   }
  },
  {
   "cell_type": "code",
   "execution_count": null,
   "outputs": [],
   "source": [
    "plot_data(combined_df,data_std)"
   ],
   "metadata": {
    "collapsed": false
   }
  },
  {
   "cell_type": "code",
   "execution_count": null,
   "outputs": [],
   "source": [
    "data_uni=pd.read_excel('outputs/optimal/combined_optimal.xlsx')"
   ],
   "metadata": {
    "collapsed": false
   }
  },
  {
   "cell_type": "code",
   "execution_count": null,
   "outputs": [],
   "source": [
    "data_uni.loc[:,'Episode']=data_uni['Episode'].apply(lambda x: x.split(',')[0])\n",
    "combined_df=data_uni.groupby(by=['Type','Episode']).mean().reset_index()\n",
    "data_std=data_uni.groupby(by=['Type','Episode']).std().reset_index()\n",
    "data_std.columns = [\"Type\",\"Episode\",\"S_Rea_Reward\", \"S_Observed_Reward\",\"S_Censoring\"]\n",
    "combined_df1=pd.concat([combined_df,data_std],axis=1)\n",
    "combined_df1['CI_Real_Reward']=combined_df1.apply( lambda x: [x['Rea_Reward'] - 1.96 * x['S_Rea_Reward'] / np.sqrt(50),\n",
    "                                            x['Rea_Reward'] + 1.96 * x['S_Rea_Reward'] / np.sqrt(50)], axis=1)"
   ],
   "metadata": {
    "collapsed": false
   }
  },
  {
   "cell_type": "code",
   "execution_count": null,
   "outputs": [],
   "source": [
    "plot_data(combined_df,data_std)"
   ],
   "metadata": {
    "collapsed": false
   }
  }
 ],
 "metadata": {
  "kernelspec": {
   "display_name": "Python 3",
   "language": "python",
   "name": "python3"
  },
  "language_info": {
   "codemirror_mode": {
    "name": "ipython",
    "version": 2
   },
   "file_extension": ".py",
   "mimetype": "text/x-python",
   "name": "python",
   "nbconvert_exporter": "python",
   "pygments_lexer": "ipython2",
   "version": "2.7.6"
  }
 },
 "nbformat": 4,
 "nbformat_minor": 0
}
